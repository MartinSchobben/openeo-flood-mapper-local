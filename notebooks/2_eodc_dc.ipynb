{
  "cells": [
    {
      "cell_type": "raw",
      "metadata": {},
      "source": [
        "---\n",
        "title: \"Flood mapping with openEO\"\n",
        "subtitle: \"interTwin\"\n",
        "execute:\n",
        "  keep-ipynb: true\n",
        "author: \n",
        "    - \"Florian Roth\"\n",
        "    - \"Bernhard Raml\"\n",
        "    - \"Martin Schobben\"\n",
        "    - \"Matthias Schramm\"\n",
        "bibliography: intertwin.bib\n",
        "format: html\n",
        "---"
      ],
      "id": "773f173b"
    },
    {
      "cell_type": "markdown",
      "metadata": {},
      "source": [
        "In this notebook we showcase openEO's standardization of remote sensing and Earth observation operations. We do this by translating the flood mapping algorithm as presented in @bauer-marschallinger_satellite-based_2022 to the openEO syntax of the Python Client. This algorithm employs Sentinel-1 backscattered microwaves, so-called \"sigma nought\" or $\\sigma^0$, to detect flooding. In this exercise we will replicate the case study of the above mentioned paper, the February 2018 flooding of the Greek region of Thessaly.\n",
        "\n",
        "## Setting-up a Python session\n",
        "\n",
        "We begin by loading openEO and some additional packages. In this exercise we make use of a local variant of openEO as the data is not yet available on an accessible data store.\n"
      ],
      "id": "59d15f82"
    },
    {
      "cell_type": "code",
      "metadata": {},
      "source": [
        "from datetime import datetime\n",
        "from pathlib import Path\n",
        "import numpy as np\n",
        "\n",
        "import rioxarray\n",
        "import matplotlib.pyplot as plt\n",
        "import cartopy.crs as ccrs\n",
        "import cartopy.io.img_tiles as cimgt\n",
        "\n",
        "import openeo"
      ],
      "id": "1a06aa60",
      "execution_count": null,
      "outputs": []
    },
    {
      "cell_type": "markdown",
      "metadata": {},
      "source": [
        "## Connect to the EODC openEO back-end\n",
        "\n",
        "Establish a connection to the EODC backend with `openeo.connect()`. This results in a connection object which is a critical aspect of collection discovery on the back-end by openEO. \n"
      ],
      "id": "39a11b56"
    },
    {
      "cell_type": "code",
      "metadata": {},
      "source": [
        "backend = \"https://openeo.eodc.eu\"\n",
        "connection = openeo.connect(backend)\n",
        "connection.authenticate_oidc(provider_id='egi')"
      ],
      "id": "e5fb90db",
      "execution_count": null,
      "outputs": []
    },
    {
      "cell_type": "markdown",
      "metadata": {},
      "source": [
        "## Load collections\n",
        "\n",
        "We can then load the collections. This is done by using the method `load_collection()` and by using the collection ids as defined above.\n"
      ],
      "id": "3826d97f"
    },
    {
      "cell_type": "code",
      "metadata": {},
      "source": [
        "spatial_extent = {\"west\": 16.06, \"south\": 48.06, \"east\": 16.65, \"north\": 48.35}\n",
        "sensing_date = \"2018-02-28\"\n",
        "sig0_dc = connection.load_collection(\n",
        "    \"SENTINEL1_SIGMA0_20M\",\n",
        "    spatial_extent = spatial_extent,\n",
        "    temporal_extent = sensing_date,\n",
        "    bands=[\"VV\"]\n",
        ")\n",
        "hparam_dc = connection.load_collection(\n",
        "    \"SENTINEL1_HPAR\",\n",
        "    spatial_extent = spatial_extent,\n",
        "    temporal_extent = sensing_date\n",
        ")\n",
        "plia_dc = connection.load_collection(\n",
        "    \"SENTINEL1_MEANPLIA\",\n",
        "    spatial_extent = spatial_extent,\n",
        "    temporal_extent = sensing_date\n",
        ")"
      ],
      "id": "598cddf9",
      "execution_count": null,
      "outputs": []
    }
  ],
  "metadata": {
    "kernelspec": {
      "name": "python3",
      "language": "python",
      "display_name": "Python 3 (ipykernel)"
    }
  },
  "nbformat": 4,
  "nbformat_minor": 5
}